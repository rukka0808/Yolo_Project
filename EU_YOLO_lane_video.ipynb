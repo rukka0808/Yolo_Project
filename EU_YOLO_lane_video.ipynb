{
  "nbformat": 4,
  "nbformat_minor": 0,
  "metadata": {
    "colab": {
      "name": "EU_lane_video.ipynb",
      "provenance": [],
      "collapsed_sections": [],
      "mount_file_id": "1A4PHrvb8w9APumyDRZMVZmiaopXvYKdi",
      "authorship_tag": "ABX9TyNG4OA+dgwlRJSG+t9WpyBJ",
      "include_colab_link": true
    },
    "kernelspec": {
      "display_name": "Python 3",
      "name": "python3"
    },
    "language_info": {
      "name": "python"
    },
    "accelerator": "GPU"
  },
  "cells": [
    {
      "cell_type": "markdown",
      "metadata": {
        "id": "view-in-github",
        "colab_type": "text"
      },
      "source": [
        "<a href=\"https://colab.research.google.com/github/rukka0808/Yolo_Project/blob/main/EU_YOLO_lane_video.ipynb\" target=\"_parent\"><img src=\"https://colab.research.google.com/assets/colab-badge.svg\" alt=\"Open In Colab\"/></a>"
      ]
    },
    {
      "cell_type": "code",
      "metadata": {
        "id": "d1ywEZRw_YGO"
      },
      "source": [
        "import cv2\n",
        "import numpy as np\n",
        "import IPython\n",
        "from google.colab.patches import cv2_imshow"
      ],
      "execution_count": 1,
      "outputs": []
    },
    {
      "cell_type": "code",
      "metadata": {
        "id": "q5lnJzI2v_Bo"
      },
      "source": [
        ""
      ],
      "execution_count": null,
      "outputs": []
    },
    {
      "cell_type": "code",
      "metadata": {
        "id": "rHcNp1dhAi0F"
      },
      "source": [
        ""
      ],
      "execution_count": 2,
      "outputs": []
    },
    {
      "cell_type": "code",
      "metadata": {
        "id": "tVvOrSQzPOc3"
      },
      "source": [
        "def wrapping(image):\n",
        "    (h, w) = (image.shape[0], image.shape[1])\n",
        "\n",
        "    pts1 = np.float32([[450,350],[370,480],[575,350],[740,480]])\n",
        "    #pts2 = np.float32([[250,0],[250,1000],[850,0],[850,1000]])\n",
        "    #source = np.float32([[w // 2 - 30, h * 0.53], [w // 2 + 60, h * 0.53], [w * 0.3, h], [w, h]])\n",
        "    #destination = np.float32([[0, 0], [w-350, 0], [400, h], [w-150, h]])\n",
        "    pts2 = np.float32([[w*0.25, 0],[w*0.25,h],[ w*0.75 ,0],[w*0.75,h]])\n",
        "\n",
        "    transform_matrix = cv2.getPerspectiveTransform(pts1, pts2)\n",
        "    minv = cv2.getPerspectiveTransform(pts1, pts2)\n",
        "    _image = cv2.warpPerspective(image, transform_matrix, (w, h))\n",
        "\n",
        "    return _image, minv"
      ],
      "execution_count": 3,
      "outputs": []
    },
    {
      "cell_type": "code",
      "metadata": {
        "id": "8uq7TNe9POal"
      },
      "source": [
        "def color_filter(image):\n",
        "    hls = cv2.cvtColor(image, cv2.COLOR_BGR2HLS)\n",
        "\n",
        "    lower = np.array([20, 20, 20])\n",
        "    upper = np.array([255, 255, 255])\n",
        "\n",
        "    yellow_lower = np.array([0, 85, 81])\n",
        "    yellow_upper = np.array([190, 255, 255])\n",
        "\n",
        "    yellow_mask = cv2.inRange(hls, yellow_lower, yellow_upper)\n",
        "    white_mask = cv2.inRange(hls, lower, upper)\n",
        "    mask = cv2.bitwise_or(yellow_mask, white_mask)\n",
        "    masked = cv2.bitwise_and(image, image, mask = mask)\n",
        "\n",
        "    return masked"
      ],
      "execution_count": 4,
      "outputs": []
    },
    {
      "cell_type": "code",
      "metadata": {
        "id": "2CdZE1DaPOXW"
      },
      "source": [
        "def roi(image):\n",
        "    x = int(image.shape[1])\n",
        "    y = int(image.shape[0])\n",
        "\n",
        "    # 한 붓 그리기\n",
        "    _shape = np.array(\n",
        "        [[int(0.1*x), int(y)], [int(0.1*x), int(0.1*y)], [int(0.4*x), int(0.1*y)], [int(0.4*x), int(y)], [int(0.55*x), int(y)], [int(0.55*x), int(0.1*y)],[int(0.80*x), int(0.1*y)], [int(0.80*x), int(y)], [int(0.2*x), int(y)]])\n",
        "\n",
        "    mask = np.zeros_like(image)\n",
        "\n",
        "    if len(image.shape) > 2:\n",
        "        channel_count = image.shape[2]\n",
        "        ignore_mask_color = (255,) * channel_count\n",
        "    else:\n",
        "        ignore_mask_color = 255\n",
        "\n",
        "    cv2.fillPoly(mask, np.int32([_shape]), ignore_mask_color)\n",
        "    masked_image = cv2.bitwise_and(image, mask)\n",
        "\n",
        "    return masked_image"
      ],
      "execution_count": 5,
      "outputs": []
    },
    {
      "cell_type": "code",
      "metadata": {
        "id": "NIIR2pIvPOVB"
      },
      "source": [
        "def plothistogram(image):\n",
        "    histogram = np.sum(image[image.shape[0]//2:, :], axis=0)\n",
        "    midpoint = np.int(histogram.shape[0]/2)\n",
        "    leftbase = np.argmax(histogram[:midpoint])\n",
        "    rightbase = np.argmax(histogram[midpoint:]) + midpoint\n",
        "    \n",
        "    return leftbase, rightbase"
      ],
      "execution_count": 6,
      "outputs": []
    },
    {
      "cell_type": "code",
      "metadata": {
        "id": "XIKdd77yPOS8"
      },
      "source": [
        "def slide_window_search(binary_warped, left_current, right_current):\n",
        "    out_img = np.dstack((binary_warped, binary_warped, binary_warped))\n",
        "    nwindows = 4\n",
        "    window_height = np.int(binary_warped.shape[0] / nwindows)\n",
        "    nonzero = binary_warped.nonzero()  # 선이 있는 부분의 인덱스만 저장\n",
        "    nonzero_y = np.array(nonzero[0])  # 선이 있는 부분 y의 인덱스 값\n",
        "    nonzero_x = np.array(nonzero[1])  # 선이 있는 부분 x의 인덱스 값\n",
        "    margin = 100\n",
        "    minpix = 50\n",
        "    left_lane = []\n",
        "    right_lane = []\n",
        "    color = [0, 255, 0]\n",
        "    thickness = 2\n",
        "\n",
        "    for w in range(nwindows):\n",
        "        win_y_low = binary_warped.shape[0] - (w + 1) * window_height  # window 윗부분\n",
        "        win_y_high = binary_warped.shape[0] - w * window_height  # window 아랫 부분\n",
        "        win_xleft_low = left_current - margin  # 왼쪽 window 왼쪽 위\n",
        "        win_xleft_high = left_current + margin  # 왼쪽 window 오른쪽 아래\n",
        "        win_xright_low = right_current - margin  # 오른쪽 window 왼쪽 위\n",
        "        win_xright_high = right_current + margin  # 오른쪽 window 오른쪽 아래\n",
        "\n",
        "        cv2.rectangle(out_img, (win_xleft_low, win_y_low), (win_xleft_high, win_y_high), color, thickness)\n",
        "        cv2.rectangle(out_img, (win_xright_low, win_y_low), (win_xright_high, win_y_high), color, thickness)\n",
        "        good_left = ((nonzero_y >= win_y_low) & (nonzero_y < win_y_high) & (nonzero_x >= win_xleft_low) & (nonzero_x < win_xleft_high)).nonzero()[0]\n",
        "        good_right = ((nonzero_y >= win_y_low) & (nonzero_y < win_y_high) & (nonzero_x >= win_xright_low) & (nonzero_x < win_xright_high)).nonzero()[0]\n",
        "        left_lane.append(good_left)\n",
        "        right_lane.append(good_right)\n",
        "        # cv2.imshow(\"oo\", out_img)\n",
        "\n",
        "        if len(good_left) > minpix:\n",
        "            left_current = np.int(np.mean(nonzero_x[good_left]))\n",
        "        if len(good_right) > minpix:\n",
        "            right_current = np.int(np.mean(nonzero_x[good_right]))\n",
        "\n",
        "    left_lane = np.concatenate(left_lane)  # np.concatenate() -> array를 1차원으로 합침\n",
        "    right_lane = np.concatenate(right_lane)\n",
        "\n",
        "    leftx = nonzero_x[left_lane]\n",
        "    lefty = nonzero_y[left_lane]\n",
        "    rightx = nonzero_x[right_lane]\n",
        "    righty = nonzero_y[right_lane]\n",
        "\n",
        "    left_fit = np.polyfit(lefty, leftx, 2)\n",
        "    right_fit = np.polyfit(righty, rightx, 2)\n",
        "\n",
        "    ploty = np.linspace(0, binary_warped.shape[0] - 1, binary_warped.shape[0])\n",
        "    left_fitx = left_fit[0] * ploty ** 2 + left_fit[1] * ploty + left_fit[2]\n",
        "    right_fitx = right_fit[0] * ploty ** 2 + right_fit[1] * ploty + right_fit[2]\n",
        "\n",
        "    ltx = np.trunc(left_fitx)  # np.trunc() -> 소수점 부분을 버림\n",
        "    rtx = np.trunc(right_fitx)\n",
        "\n",
        "    out_img[nonzero_y[left_lane], nonzero_x[left_lane]] = [255, 0, 0]\n",
        "    out_img[nonzero_y[right_lane], nonzero_x[right_lane]] = [0, 0, 255]\n",
        "\n",
        "    #cv2_imshow(out_img)\n",
        "    # plt.plot(left_fitx, ploty, color = 'yellow')\n",
        "    # plt.plot(right_fitx, ploty, color = 'yellow')\n",
        "    # plt.xlim(0, 1280)\n",
        "    # plt.ylim(720, 0)\n",
        "    # plt.show()\n",
        "    #plt.plot(left_fit)\n",
        "    #plt.show()\n",
        "    ret = {'left_fitx' : ltx, 'right_fitx': rtx, 'ploty': ploty}\n",
        "\n",
        "    return ret"
      ],
      "execution_count": 7,
      "outputs": []
    },
    {
      "cell_type": "code",
      "metadata": {
        "id": "uow-_fqxPOQd"
      },
      "source": [
        "def draw_lane_lines(original_image, warped_image, Minv, draw_info):\n",
        "    left_fitx = draw_info['left_fitx']\n",
        "    right_fitx = draw_info['right_fitx']\n",
        "    ploty = draw_info['ploty']\n",
        "\n",
        "    warp_zero = np.zeros_like(warped_image).astype(np.uint8)\n",
        "    color_warp = np.dstack((warp_zero, warp_zero, warp_zero))\n",
        "\n",
        "    pts_left = np.array([np.transpose(np.vstack([left_fitx, ploty]))])\n",
        "    pts_right = np.array([np.flipud(np.transpose(np.vstack([right_fitx, ploty])))])\n",
        "    pts = np.hstack((pts_left, pts_right))\n",
        "\n",
        "    mean_x = np.mean((left_fitx, right_fitx), axis=0)\n",
        "    pts_mean = np.array([np.flipud(np.transpose(np.vstack([mean_x, ploty])))])\n",
        "\n",
        "    cv2.fillPoly(color_warp, np.int_([pts]), (216, 168, 74))\n",
        "    cv2.fillPoly(color_warp, np.int_([pts_mean]), (216, 168, 74))\n",
        "    \n",
        "    #cv2_imshow(color_warp)\n",
        "    (h, w) = (original_image.shape[0], original_image.shape[1])\n",
        "    pts1 = np.float32([[450,350],[370,480],[575,350],[740,480]])\n",
        "    pts2 = np.float32([[w*0.25, 0],[w*0.25,h],[ w*0.75 ,0],[w*0.75,h]])\n",
        "\n",
        "    invTransMaxtirx = cv2.getPerspectiveTransform(pts2, pts1)\n",
        "\n",
        "    newwarp = cv2.warpPerspective(color_warp, invTransMaxtirx, (original_image.shape[1], original_image.shape[0]))\n",
        "    #cv2_imshow(newwarp)\n",
        "    result = cv2.addWeighted(original_image, 1, newwarp, 0.4, 0)\n",
        "\n",
        "    return pts_mean, result"
      ],
      "execution_count": 8,
      "outputs": []
    },
    {
      "cell_type": "code",
      "metadata": {
        "id": "rWiUhBq6PON_"
      },
      "source": [
        "def detect_lane(img):\n",
        "    wrapped_img, minverse = wrapping(img)\n",
        "    test_img = roi(wrapped_img)\n",
        "\n",
        "    _gray = cv2.cvtColor(test_img, cv2.COLOR_BGR2GRAY)\n",
        "    ret, thresh = cv2.threshold(_gray, 160, 255, cv2.THRESH_BINARY)\n",
        "\n",
        "    leftbase, rightbase = plothistogram(thresh)\n",
        "\n",
        "    draw_info = slide_window_search(thresh, leftbase, rightbase)\n",
        "\n",
        "    meanPts, result = draw_lane_lines(img, thresh, minverse, draw_info)\n",
        "    \n",
        "    return meanPts, result"
      ],
      "execution_count": 9,
      "outputs": []
    },
    {
      "cell_type": "code",
      "metadata": {
        "id": "bNVYa-YEPOLo"
      },
      "source": [
        ""
      ],
      "execution_count": null,
      "outputs": []
    },
    {
      "cell_type": "markdown",
      "metadata": {
        "id": "1GRFQD8Xwegs"
      },
      "source": [
        "YOLO"
      ]
    },
    {
      "cell_type": "code",
      "metadata": {
        "id": "R4qmYd4OPNvP",
        "colab": {
          "base_uri": "https://localhost:8080/"
        },
        "outputId": "78473534-4357-48af-a7fd-5c05a8e41ba1"
      },
      "source": [
        "# clone darknet repo\n",
        "!git clone https://github.com/AlexeyAB/darknet"
      ],
      "execution_count": 10,
      "outputs": [
        {
          "output_type": "stream",
          "text": [
            "Cloning into 'darknet'...\n",
            "remote: Enumerating objects: 15298, done.\u001b[K\n",
            "remote: Total 15298 (delta 0), reused 0 (delta 0), pack-reused 15298\u001b[K\n",
            "Receiving objects: 100% (15298/15298), 13.68 MiB | 16.43 MiB/s, done.\n",
            "Resolving deltas: 100% (10389/10389), done.\n"
          ],
          "name": "stdout"
        }
      ]
    },
    {
      "cell_type": "code",
      "metadata": {
        "id": "KqSCfnx5whiy"
      },
      "source": [
        "!ls -al darknet"
      ],
      "execution_count": null,
      "outputs": []
    },
    {
      "cell_type": "code",
      "metadata": {
        "colab": {
          "base_uri": "https://localhost:8080/"
        },
        "id": "fB8mRNYvwhyU",
        "outputId": "c0300634-fd64-48a2-a653-5a4c0453c520"
      },
      "source": [
        "%cd darknet"
      ],
      "execution_count": 12,
      "outputs": [
        {
          "output_type": "stream",
          "text": [
            "/content/darknet\n"
          ],
          "name": "stdout"
        }
      ]
    },
    {
      "cell_type": "code",
      "metadata": {
        "id": "u2avKKBDwh-n"
      },
      "source": [
        "# change makefile to have GPU,OPENCV, CUDNN enabled\n",
        "!sed -i 's/OPENCV=0/OPENCV=1/' Makefile\n",
        "!sed -i 's/GPU=0/GPU=1/' Makefile\n",
        "!sed -i 's/CUDNN=0/CUDNN=1/' Makefile"
      ],
      "execution_count": 13,
      "outputs": []
    },
    {
      "cell_type": "code",
      "metadata": {
        "colab": {
          "base_uri": "https://localhost:8080/"
        },
        "id": "C1rL1PrFwiOv",
        "outputId": "f78e6a2d-771d-4801-d1dc-d0d633b6972b"
      },
      "source": [
        "# verify CUDA\n",
        "!/usr/local/cuda/bin/nvcc --version"
      ],
      "execution_count": 14,
      "outputs": [
        {
          "output_type": "stream",
          "text": [
            "nvcc: NVIDIA (R) Cuda compiler driver\n",
            "Copyright (c) 2005-2020 NVIDIA Corporation\n",
            "Built on Wed_Jul_22_19:09:09_PDT_2020\n",
            "Cuda compilation tools, release 11.0, V11.0.221\n",
            "Build cuda_11.0_bu.TC445_37.28845127_0\n"
          ],
          "name": "stdout"
        }
      ]
    },
    {
      "cell_type": "code",
      "metadata": {
        "id": "KGavsZlLwpN6"
      },
      "source": [
        "#Compile Sources\n",
        "!make"
      ],
      "execution_count": null,
      "outputs": []
    },
    {
      "cell_type": "code",
      "metadata": {
        "colab": {
          "base_uri": "https://localhost:8080/",
          "height": 16
        },
        "id": "MTpHPPjLwptM",
        "outputId": "07c83eb7-5442-4132-d388-b8ab157028c9"
      },
      "source": [
        "from google.colab import files\n",
        "files.download('darknet')"
      ],
      "execution_count": 16,
      "outputs": [
        {
          "output_type": "display_data",
          "data": {
            "application/javascript": [
              "\n",
              "    async function download(id, filename, size) {\n",
              "      if (!google.colab.kernel.accessAllowed) {\n",
              "        return;\n",
              "      }\n",
              "      const div = document.createElement('div');\n",
              "      const label = document.createElement('label');\n",
              "      label.textContent = `Downloading \"${filename}\": `;\n",
              "      div.appendChild(label);\n",
              "      const progress = document.createElement('progress');\n",
              "      progress.max = size;\n",
              "      div.appendChild(progress);\n",
              "      document.body.appendChild(div);\n",
              "\n",
              "      const buffers = [];\n",
              "      let downloaded = 0;\n",
              "\n",
              "      const channel = await google.colab.kernel.comms.open(id);\n",
              "      // Send a message to notify the kernel that we're ready.\n",
              "      channel.send({})\n",
              "\n",
              "      for await (const message of channel.messages) {\n",
              "        // Send a message to notify the kernel that we're ready.\n",
              "        channel.send({})\n",
              "        if (message.buffers) {\n",
              "          for (const buffer of message.buffers) {\n",
              "            buffers.push(buffer);\n",
              "            downloaded += buffer.byteLength;\n",
              "            progress.value = downloaded;\n",
              "          }\n",
              "        }\n",
              "      }\n",
              "      const blob = new Blob(buffers, {type: 'application/binary'});\n",
              "      const a = document.createElement('a');\n",
              "      a.href = window.URL.createObjectURL(blob);\n",
              "      a.download = filename;\n",
              "      div.appendChild(a);\n",
              "      a.click();\n",
              "      div.remove();\n",
              "    }\n",
              "  "
            ],
            "text/plain": [
              "<IPython.core.display.Javascript object>"
            ]
          },
          "metadata": {
            "tags": []
          }
        },
        {
          "output_type": "display_data",
          "data": {
            "application/javascript": [
              "download(\"download_4cbb3a9d-83fc-43fc-ae12-7ff2eeb74a7e\", \"darknet\", 5370664)"
            ],
            "text/plain": [
              "<IPython.core.display.Javascript object>"
            ]
          },
          "metadata": {
            "tags": []
          }
        }
      ]
    },
    {
      "cell_type": "code",
      "metadata": {
        "colab": {
          "base_uri": "https://localhost:8080/"
        },
        "id": "79HYRQ5c2Z9g",
        "outputId": "c7a9a192-9a7d-4b88-bbc0-278a2cdbc858"
      },
      "source": [
        "# get yolov3 pretrained coco dataset weights\n",
        "!wget https://pjreddie.com/media/files/yolov3.weights"
      ],
      "execution_count": 42,
      "outputs": [
        {
          "output_type": "stream",
          "text": [
            "--2021-08-10 06:57:00--  https://pjreddie.com/media/files/yolov3.weights\n",
            "Resolving pjreddie.com (pjreddie.com)... 128.208.4.108\n",
            "Connecting to pjreddie.com (pjreddie.com)|128.208.4.108|:443... connected.\n",
            "HTTP request sent, awaiting response... 200 OK\n",
            "Length: 248007048 (237M) [application/octet-stream]\n",
            "Saving to: ‘yolov3.weights’\n",
            "\n",
            "yolov3.weights      100%[===================>] 236.52M  69.8MB/s    in 3.6s    \n",
            "\n",
            "2021-08-10 06:57:04 (65.5 MB/s) - ‘yolov3.weights’ saved [248007048/248007048]\n",
            "\n"
          ],
          "name": "stdout"
        }
      ]
    },
    {
      "cell_type": "code",
      "metadata": {
        "id": "ZiMttXw3wqAM"
      },
      "source": [
        "import cv2\n",
        "\n",
        "from google.colab.patches import cv2_imshow"
      ],
      "execution_count": 17,
      "outputs": []
    },
    {
      "cell_type": "code",
      "metadata": {
        "id": "3Ab2bDoywqNf"
      },
      "source": [
        ""
      ],
      "execution_count": 18,
      "outputs": []
    },
    {
      "cell_type": "code",
      "metadata": {
        "id": "qUB1638zxGFt"
      },
      "source": [
        "file_name = 'EU_test_Trim_Trim.avi'"
      ],
      "execution_count": 48,
      "outputs": []
    },
    {
      "cell_type": "code",
      "metadata": {
        "id": "jNgUDgJdxGbE"
      },
      "source": [
        "!ls -al data"
      ],
      "execution_count": null,
      "outputs": []
    },
    {
      "cell_type": "code",
      "metadata": {
        "id": "DM-ATBqTxkrX"
      },
      "source": [
        "import IPython\n",
        "import numpy as np\n",
        "import time\n",
        "\n",
        "min_confidence = 0.5\n",
        "weight_file = 'yolov3.weights'\n",
        "cfg_file = '/content/darknet/cfg/yolov3.cfg'\n",
        "name_file = '/content/darknet/data/coco.names'"
      ],
      "execution_count": 43,
      "outputs": []
    },
    {
      "cell_type": "code",
      "metadata": {
        "id": "bOYa33otxk3J"
      },
      "source": [
        "# Load Yolo\n",
        "net = cv2.dnn.readNet(weight_file, cfg_file)"
      ],
      "execution_count": 44,
      "outputs": []
    },
    {
      "cell_type": "code",
      "metadata": {
        "colab": {
          "base_uri": "https://localhost:8080/"
        },
        "id": "8xM9g6D42tNB",
        "outputId": "e3d128b1-e264-44dc-b913-56ed1e90aa2a"
      },
      "source": [
        "classes = []\n",
        "with open(name_file, 'r') as f:\n",
        "    classes = [line.strip() for line in f.readlines()]\n",
        "print(classes)\n"
      ],
      "execution_count": 46,
      "outputs": [
        {
          "output_type": "stream",
          "text": [
            "['person', 'bicycle', 'car', 'motorbike', 'aeroplane', 'bus', 'train', 'truck', 'boat', 'traffic light', 'fire hydrant', 'stop sign', 'parking meter', 'bench', 'bird', 'cat', 'dog', 'horse', 'sheep', 'cow', 'elephant', 'bear', 'zebra', 'giraffe', 'backpack', 'umbrella', 'handbag', 'tie', 'suitcase', 'frisbee', 'skis', 'snowboard', 'sports ball', 'kite', 'baseball bat', 'baseball glove', 'skateboard', 'surfboard', 'tennis racket', 'bottle', 'wine glass', 'cup', 'fork', 'knife', 'spoon', 'bowl', 'banana', 'apple', 'sandwich', 'orange', 'broccoli', 'carrot', 'hot dog', 'pizza', 'donut', 'cake', 'chair', 'sofa', 'pottedplant', 'bed', 'diningtable', 'toilet', 'tvmonitor', 'laptop', 'mouse', 'remote', 'keyboard', 'cell phone', 'microwave', 'oven', 'toaster', 'sink', 'refrigerator', 'book', 'clock', 'vase', 'scissors', 'teddy bear', 'hair drier', 'toothbrush']\n"
          ],
          "name": "stdout"
        }
      ]
    },
    {
      "cell_type": "code",
      "metadata": {
        "id": "3ZYzqkTaxlD6"
      },
      "source": [
        "layer_names = net.getLayerNames()\n",
        "output_layers = [layer_names[i[0] - 1] for i in net.getUnconnectedOutLayers()]\n",
        "\n",
        "colors = np.random.uniform(0, 255, size=(len(classes), 3))"
      ],
      "execution_count": 47,
      "outputs": []
    },
    {
      "cell_type": "code",
      "metadata": {
        "id": "zp__uQiixlOW"
      },
      "source": [
        "def writeFrame(img):\n",
        "    # use global variable, writer\n",
        "    global writer\n",
        "    height, width = img.shape[:2]\n",
        "    if writer is None and output_name is not None:\n",
        "        fourcc = cv2.VideoWriter_fourcc(*'MJPG')\n",
        "        writer = cv2.VideoWriter(output_name, fourcc, 24, (width, height), True)\n",
        "    if writer is not None:\n",
        "        writer.write(img)"
      ],
      "execution_count": 49,
      "outputs": []
    },
    {
      "cell_type": "code",
      "metadata": {
        "id": "zDia5K5T25Um"
      },
      "source": [
        "frame_count = 0\n",
        "# initialize the video writer \n",
        "writer = None\n",
        "output_name = 'output_video.avi'"
      ],
      "execution_count": 50,
      "outputs": []
    },
    {
      "cell_type": "code",
      "metadata": {
        "id": "uPsOuaCd25hm"
      },
      "source": [
        "def detectAndDisplay(frame):\n",
        "    # use global variable, writer\n",
        "    global frame_count\n",
        "    start_time = time.time()\n",
        "    IPython.display.clear_output(wait=True)\n",
        "    height, width, channedls = frame.shape\n",
        "    # Detecting objects\n",
        "    # https://docs.opencv.org/master/d6/d0f/group__dnn.html\n",
        "    blob = cv2.dnn.blobFromImage(frame, 0.00392, (416, 416), (0, 0, 0), True, crop=False)\n",
        "\n",
        "    net.setInput(blob)\n",
        "    outs = net.forward(output_layers)\n",
        "\n",
        "    class_ids = []\n",
        "    confidences = []\n",
        "    boxes = []\n",
        "\n",
        "    for out in outs:\n",
        "        for detection in out:\n",
        "            scores = detection[5:]\n",
        "            class_id = np.argmax(scores)\n",
        "            confidence = scores[class_id]\n",
        "            if confidence > min_confidence:\n",
        "                # Object detected\n",
        "                center_x = int(detection[0] * width)\n",
        "                center_y = int(detection[1] * height)\n",
        "                w = int(detection[2] * width)\n",
        "                h = int(detection[3] * height)\n",
        "\n",
        "                # Rectangle coordinates\n",
        "                x = int(center_x - w / 2)\n",
        "                y = int(center_y - h / 2)\n",
        "\n",
        "                boxes.append([x, y, w, h])\n",
        "                confidences.append(float(confidence))\n",
        "                class_ids.append(class_id)\n",
        "\n",
        "    indexes = cv2.dnn.NMSBoxes(boxes, confidences, min_confidence, 0.4)\n",
        "    font = cv2.FONT_HERSHEY_COMPLEX\n",
        "    for i in range(len(boxes)):\n",
        "        if i in indexes:\n",
        "            x, y, w, h = boxes[i]\n",
        "            label = str(classes[class_ids[i]])\n",
        "            color = colors[i]\n",
        "            cv2.rectangle(frame, (x, y), (x + w, y + h), color, 2)\n",
        "            cv2.putText(frame, label, (x, y + 30), font, 0.5, (0, 255, 0), 1)  \n",
        "\n",
        "    frame_time = time.time() - start_time \n",
        "    cv2_imshow(frame)   \n",
        "    writeFrame(frame)"
      ],
      "execution_count": 59,
      "outputs": []
    },
    {
      "cell_type": "code",
      "metadata": {
        "id": "MA4TDqrE3To8"
      },
      "source": [
        ""
      ],
      "execution_count": null,
      "outputs": []
    },
    {
      "cell_type": "code",
      "metadata": {
        "colab": {
          "base_uri": "https://localhost:8080/",
          "height": 34
        },
        "id": "mzH2mHO4xTUr",
        "outputId": "e63a32f7-adc3-494f-b5d9-d3915051c44c"
      },
      "source": [
        "#-- 2. Read the video stream\n",
        "cap = cv2.VideoCapture(file_name)\n",
        "\n",
        "if not cap.isOpened:\n",
        "    print('--(!)Error opening video capture')\n",
        "    exit(0)\n",
        "\n",
        "while True:\n",
        "    ret, frame = cap.read()\n",
        "    if frame is None:\n",
        "        print('--(!) No captured frame -- Break!')\n",
        "        break    \n",
        "    x,y = detect_lane(frame) \n",
        "    detectAndDisplay(y)\n",
        "    IPython.display.clear_output(wait=True)"
      ],
      "execution_count": 60,
      "outputs": [
        {
          "output_type": "stream",
          "text": [
            "--(!) No captured frame -- Break!\n"
          ],
          "name": "stdout"
        }
      ]
    },
    {
      "cell_type": "code",
      "metadata": {
        "id": "FzzRo2gHAb0g"
      },
      "source": [
        ""
      ],
      "execution_count": null,
      "outputs": []
    },
    {
      "cell_type": "code",
      "metadata": {
        "colab": {
          "base_uri": "https://localhost:8080/",
          "height": 16
        },
        "id": "hb49vFbP7jkx",
        "outputId": "2c00dc56-5c2c-451a-bbdb-41ee03eb380d"
      },
      "source": [
        "from google.colab import files\n",
        "files.download(output_name)"
      ],
      "execution_count": 61,
      "outputs": [
        {
          "output_type": "display_data",
          "data": {
            "application/javascript": [
              "\n",
              "    async function download(id, filename, size) {\n",
              "      if (!google.colab.kernel.accessAllowed) {\n",
              "        return;\n",
              "      }\n",
              "      const div = document.createElement('div');\n",
              "      const label = document.createElement('label');\n",
              "      label.textContent = `Downloading \"${filename}\": `;\n",
              "      div.appendChild(label);\n",
              "      const progress = document.createElement('progress');\n",
              "      progress.max = size;\n",
              "      div.appendChild(progress);\n",
              "      document.body.appendChild(div);\n",
              "\n",
              "      const buffers = [];\n",
              "      let downloaded = 0;\n",
              "\n",
              "      const channel = await google.colab.kernel.comms.open(id);\n",
              "      // Send a message to notify the kernel that we're ready.\n",
              "      channel.send({})\n",
              "\n",
              "      for await (const message of channel.messages) {\n",
              "        // Send a message to notify the kernel that we're ready.\n",
              "        channel.send({})\n",
              "        if (message.buffers) {\n",
              "          for (const buffer of message.buffers) {\n",
              "            buffers.push(buffer);\n",
              "            downloaded += buffer.byteLength;\n",
              "            progress.value = downloaded;\n",
              "          }\n",
              "        }\n",
              "      }\n",
              "      const blob = new Blob(buffers, {type: 'application/binary'});\n",
              "      const a = document.createElement('a');\n",
              "      a.href = window.URL.createObjectURL(blob);\n",
              "      a.download = filename;\n",
              "      div.appendChild(a);\n",
              "      a.click();\n",
              "      div.remove();\n",
              "    }\n",
              "  "
            ],
            "text/plain": [
              "<IPython.core.display.Javascript object>"
            ]
          },
          "metadata": {
            "tags": []
          }
        },
        {
          "output_type": "display_data",
          "data": {
            "application/javascript": [
              "download(\"download_655a964a-2f77-4759-939f-98a49835ea5e\", \"output_video.avi\", 72361710)"
            ],
            "text/plain": [
              "<IPython.core.display.Javascript object>"
            ]
          },
          "metadata": {
            "tags": []
          }
        }
      ]
    },
    {
      "cell_type": "code",
      "metadata": {
        "id": "xPnl8H_J-1Bb"
      },
      "source": [
        ""
      ],
      "execution_count": null,
      "outputs": []
    }
  ]
}